{
  "cells": [
    {
      "cell_type": "markdown",
      "metadata": {
        "id": "view-in-github",
        "colab_type": "text"
      },
      "source": [
        "<a href=\"https://colab.research.google.com/github/Zannat98/DataScienceBootcamp-HU-/blob/main/Answering_Research_Q_2_(Zannatul).ipynb\" target=\"_parent\"><img src=\"https://colab.research.google.com/assets/colab-badge.svg\" alt=\"Open In Colab\"/></a>"
      ]
    },
    {
      "cell_type": "code",
      "execution_count": null,
      "id": "ce78e8dc-5cb0-4de7-ba6e-3c72e7096fe2",
      "metadata": {
        "colab": {
          "background_save": true,
          "base_uri": "https://localhost:8080/",
          "height": 38
        },
        "id": "ce78e8dc-5cb0-4de7-ba6e-3c72e7096fe2",
        "outputId": "dc1000fc-2182-47a2-d2a5-eebe3deae069"
      },
      "outputs": [
        {
          "data": {
            "text/html": [
              "\n",
              "     <input type=\"file\" id=\"files-324fd819-2c78-4651-b9d9-94d8ee419a50\" name=\"files[]\" multiple disabled\n",
              "        style=\"border:none\" />\n",
              "     <output id=\"result-324fd819-2c78-4651-b9d9-94d8ee419a50\">\n",
              "      Upload widget is only available when the cell has been executed in the\n",
              "      current browser session. Please rerun this cell to enable.\n",
              "      </output>\n",
              "      <script>// Copyright 2017 Google LLC\n",
              "//\n",
              "// Licensed under the Apache License, Version 2.0 (the \"License\");\n",
              "// you may not use this file except in compliance with the License.\n",
              "// You may obtain a copy of the License at\n",
              "//\n",
              "//      http://www.apache.org/licenses/LICENSE-2.0\n",
              "//\n",
              "// Unless required by applicable law or agreed to in writing, software\n",
              "// distributed under the License is distributed on an \"AS IS\" BASIS,\n",
              "// WITHOUT WARRANTIES OR CONDITIONS OF ANY KIND, either express or implied.\n",
              "// See the License for the specific language governing permissions and\n",
              "// limitations under the License.\n",
              "\n",
              "/**\n",
              " * @fileoverview Helpers for google.colab Python module.\n",
              " */\n",
              "(function(scope) {\n",
              "function span(text, styleAttributes = {}) {\n",
              "  const element = document.createElement('span');\n",
              "  element.textContent = text;\n",
              "  for (const key of Object.keys(styleAttributes)) {\n",
              "    element.style[key] = styleAttributes[key];\n",
              "  }\n",
              "  return element;\n",
              "}\n",
              "\n",
              "// Max number of bytes which will be uploaded at a time.\n",
              "const MAX_PAYLOAD_SIZE = 100 * 1024;\n",
              "\n",
              "function _uploadFiles(inputId, outputId) {\n",
              "  const steps = uploadFilesStep(inputId, outputId);\n",
              "  const outputElement = document.getElementById(outputId);\n",
              "  // Cache steps on the outputElement to make it available for the next call\n",
              "  // to uploadFilesContinue from Python.\n",
              "  outputElement.steps = steps;\n",
              "\n",
              "  return _uploadFilesContinue(outputId);\n",
              "}\n",
              "\n",
              "// This is roughly an async generator (not supported in the browser yet),\n",
              "// where there are multiple asynchronous steps and the Python side is going\n",
              "// to poll for completion of each step.\n",
              "// This uses a Promise to block the python side on completion of each step,\n",
              "// then passes the result of the previous step as the input to the next step.\n",
              "function _uploadFilesContinue(outputId) {\n",
              "  const outputElement = document.getElementById(outputId);\n",
              "  const steps = outputElement.steps;\n",
              "\n",
              "  const next = steps.next(outputElement.lastPromiseValue);\n",
              "  return Promise.resolve(next.value.promise).then((value) => {\n",
              "    // Cache the last promise value to make it available to the next\n",
              "    // step of the generator.\n",
              "    outputElement.lastPromiseValue = value;\n",
              "    return next.value.response;\n",
              "  });\n",
              "}\n",
              "\n",
              "/**\n",
              " * Generator function which is called between each async step of the upload\n",
              " * process.\n",
              " * @param {string} inputId Element ID of the input file picker element.\n",
              " * @param {string} outputId Element ID of the output display.\n",
              " * @return {!Iterable<!Object>} Iterable of next steps.\n",
              " */\n",
              "function* uploadFilesStep(inputId, outputId) {\n",
              "  const inputElement = document.getElementById(inputId);\n",
              "  inputElement.disabled = false;\n",
              "\n",
              "  const outputElement = document.getElementById(outputId);\n",
              "  outputElement.innerHTML = '';\n",
              "\n",
              "  const pickedPromise = new Promise((resolve) => {\n",
              "    inputElement.addEventListener('change', (e) => {\n",
              "      resolve(e.target.files);\n",
              "    });\n",
              "  });\n",
              "\n",
              "  const cancel = document.createElement('button');\n",
              "  inputElement.parentElement.appendChild(cancel);\n",
              "  cancel.textContent = 'Cancel upload';\n",
              "  const cancelPromise = new Promise((resolve) => {\n",
              "    cancel.onclick = () => {\n",
              "      resolve(null);\n",
              "    };\n",
              "  });\n",
              "\n",
              "  // Wait for the user to pick the files.\n",
              "  const files = yield {\n",
              "    promise: Promise.race([pickedPromise, cancelPromise]),\n",
              "    response: {\n",
              "      action: 'starting',\n",
              "    }\n",
              "  };\n",
              "\n",
              "  cancel.remove();\n",
              "\n",
              "  // Disable the input element since further picks are not allowed.\n",
              "  inputElement.disabled = true;\n",
              "\n",
              "  if (!files) {\n",
              "    return {\n",
              "      response: {\n",
              "        action: 'complete',\n",
              "      }\n",
              "    };\n",
              "  }\n",
              "\n",
              "  for (const file of files) {\n",
              "    const li = document.createElement('li');\n",
              "    li.append(span(file.name, {fontWeight: 'bold'}));\n",
              "    li.append(span(\n",
              "        `(${file.type || 'n/a'}) - ${file.size} bytes, ` +\n",
              "        `last modified: ${\n",
              "            file.lastModifiedDate ? file.lastModifiedDate.toLocaleDateString() :\n",
              "                                    'n/a'} - `));\n",
              "    const percent = span('0% done');\n",
              "    li.appendChild(percent);\n",
              "\n",
              "    outputElement.appendChild(li);\n",
              "\n",
              "    const fileDataPromise = new Promise((resolve) => {\n",
              "      const reader = new FileReader();\n",
              "      reader.onload = (e) => {\n",
              "        resolve(e.target.result);\n",
              "      };\n",
              "      reader.readAsArrayBuffer(file);\n",
              "    });\n",
              "    // Wait for the data to be ready.\n",
              "    let fileData = yield {\n",
              "      promise: fileDataPromise,\n",
              "      response: {\n",
              "        action: 'continue',\n",
              "      }\n",
              "    };\n",
              "\n",
              "    // Use a chunked sending to avoid message size limits. See b/62115660.\n",
              "    let position = 0;\n",
              "    do {\n",
              "      const length = Math.min(fileData.byteLength - position, MAX_PAYLOAD_SIZE);\n",
              "      const chunk = new Uint8Array(fileData, position, length);\n",
              "      position += length;\n",
              "\n",
              "      const base64 = btoa(String.fromCharCode.apply(null, chunk));\n",
              "      yield {\n",
              "        response: {\n",
              "          action: 'append',\n",
              "          file: file.name,\n",
              "          data: base64,\n",
              "        },\n",
              "      };\n",
              "\n",
              "      let percentDone = fileData.byteLength === 0 ?\n",
              "          100 :\n",
              "          Math.round((position / fileData.byteLength) * 100);\n",
              "      percent.textContent = `${percentDone}% done`;\n",
              "\n",
              "    } while (position < fileData.byteLength);\n",
              "  }\n",
              "\n",
              "  // All done.\n",
              "  yield {\n",
              "    response: {\n",
              "      action: 'complete',\n",
              "    }\n",
              "  };\n",
              "}\n",
              "\n",
              "scope.google = scope.google || {};\n",
              "scope.google.colab = scope.google.colab || {};\n",
              "scope.google.colab._files = {\n",
              "  _uploadFiles,\n",
              "  _uploadFilesContinue,\n",
              "};\n",
              "})(self);\n",
              "</script> "
            ],
            "text/plain": [
              "<IPython.core.display.HTML object>"
            ]
          },
          "metadata": {},
          "output_type": "display_data"
        }
      ],
      "source": [
        "import numpy as np\n",
        "import pandas as pd\n",
        "import warnings\n",
        "warnings.filterwarnings('ignore')\n",
        "\n",
        "# Display all rows/columns\n",
        "pd.set_option('display.max_rows', None)\n",
        "pd.set_option('display.max_columns', None)\n",
        "\n",
        "from google.colab import files\n",
        "\n",
        "# This will prompt you to select a file from your local machine\n",
        "uploaded = files.upload()\n"
      ]
    },
    {
      "cell_type": "code",
      "execution_count": null,
      "id": "98967da0-159b-4f29-8915-04b72917c8a5",
      "metadata": {
        "id": "98967da0-159b-4f29-8915-04b72917c8a5"
      },
      "outputs": [],
      "source": [
        "broadband.head()"
      ]
    },
    {
      "cell_type": "code",
      "execution_count": null,
      "id": "27115958-c8fb-4377-8759-e68bd9681410",
      "metadata": {
        "id": "27115958-c8fb-4377-8759-e68bd9681410"
      },
      "outputs": [],
      "source": [
        "# Show total missing values for each column\n",
        "missing_per_column = broadband.isnull().sum()\n",
        "print(\"Missing values per column:\")\n",
        "print(missing_per_column)"
      ]
    },
    {
      "cell_type": "code",
      "execution_count": null,
      "id": "9f16f17d-1c43-42ff-9923-13089cf34d48",
      "metadata": {
        "id": "9f16f17d-1c43-42ff-9923-13089cf34d48"
      },
      "outputs": [],
      "source": [
        "print(broadband['geography_type'].unique())\n",
        "print(broadband['geography_desc'].unique())"
      ]
    },
    {
      "cell_type": "code",
      "execution_count": null,
      "id": "9d969dc4-8e13-4134-8684-a1d6db6e19b1",
      "metadata": {
        "id": "9d969dc4-8e13-4134-8684-a1d6db6e19b1"
      },
      "outputs": [],
      "source": [
        "print(broadband['geography_type'].value_counts())\n",
        "print(broadband['geography_desc'].value_counts())"
      ]
    },
    {
      "cell_type": "code",
      "execution_count": null,
      "id": "e33663f7-9b94-4b47-8c25-6c9d4c3f6afb",
      "metadata": {
        "colab": {
          "base_uri": "https://localhost:8080/",
          "height": 141
        },
        "id": "e33663f7-9b94-4b47-8c25-6c9d4c3f6afb",
        "outputId": "98c857d5-559a-4da8-8027-11d53a4357dc"
      },
      "outputs": [
        {
          "ename": "NameError",
          "evalue": "name 'broadband' is not defined",
          "output_type": "error",
          "traceback": [
            "\u001b[0;31m---------------------------------------------------------------------------\u001b[0m",
            "\u001b[0;31mNameError\u001b[0m                                 Traceback (most recent call last)",
            "\u001b[0;32m/tmp/ipython-input-4-3944353358.py\u001b[0m in \u001b[0;36m<cell line: 0>\u001b[0;34m()\u001b[0m\n\u001b[0;32m----> 1\u001b[0;31m \u001b[0mbroadband\u001b[0m\u001b[0;34m.\u001b[0m\u001b[0mhead\u001b[0m\u001b[0;34m(\u001b[0m\u001b[0;34m)\u001b[0m\u001b[0;34m\u001b[0m\u001b[0;34m\u001b[0m\u001b[0m\n\u001b[0m",
            "\u001b[0;31mNameError\u001b[0m: name 'broadband' is not defined"
          ]
        }
      ],
      "source": [
        "broadband.head()\n"
      ]
    },
    {
      "cell_type": "code",
      "execution_count": null,
      "id": "dc6d88e7-4b49-44ea-974e-381fa9e78bf1",
      "metadata": {
        "id": "dc6d88e7-4b49-44ea-974e-381fa9e78bf1"
      },
      "outputs": [],
      "source": [
        "print(broadband['area_data_type'].value_counts())"
      ]
    },
    {
      "cell_type": "code",
      "execution_count": null,
      "id": "cea846cd-67ec-41d8-ab48-01315c6fb629",
      "metadata": {
        "id": "cea846cd-67ec-41d8-ab48-01315c6fb629"
      },
      "outputs": [],
      "source": [
        "# Defining the classification function\n",
        "def classify_from_area_data_type(value):\n",
        "    if value == 'Urban':\n",
        "        return 'Urban'\n",
        "    elif value == 'Rural':\n",
        "        return 'Rural'\n",
        "    else:\n",
        "        return 'Unknown'\n",
        "\n",
        "# updating the broadband DataFrame with a new column applying classification\n",
        "broadband['area_type'] = broadband['area_data_type'].apply(classify_from_area_data_type)\n",
        "\n",
        "# droping rows where area_type is Unknown\n",
        "broadband = broadband[broadband['area_type'] != 'Unknown'].copy()\n",
        "broadband.reset_index(drop=True, inplace=True)"
      ]
    },
    {
      "cell_type": "code",
      "execution_count": null,
      "id": "942e4982-a9c0-4dee-8903-c4a30ef5511a",
      "metadata": {
        "id": "942e4982-a9c0-4dee-8903-c4a30ef5511a"
      },
      "outputs": [],
      "source": [
        "print(broadband['area_type'].value_counts())\n",
        "print(\"Updated DataFrame shape:\", broadband.shape)"
      ]
    },
    {
      "cell_type": "code",
      "execution_count": null,
      "id": "9123ab28-a5f2-4ba2-9eb7-8d07cd93bf98",
      "metadata": {
        "id": "9123ab28-a5f2-4ba2-9eb7-8d07cd93bf98"
      },
      "outputs": [],
      "source": [
        "broadband.head()"
      ]
    },
    {
      "cell_type": "code",
      "execution_count": null,
      "id": "b1371578-b58e-4d22-bd82-b8e3df1a84ec",
      "metadata": {
        "id": "b1371578-b58e-4d22-bd82-b8e3df1a84ec"
      },
      "outputs": [],
      "source": [
        "speed_comparison = broadband.groupby('area_type')[\n",
        "    ['speed_25_3', 'speed_100_20', 'speed_250_25', 'speed_1000_100']\n",
        "].mean().reset_index()\n",
        "print(speed_comparison)"
      ]
    },
    {
      "cell_type": "code",
      "execution_count": null,
      "id": "04b6e101-ca28-48fa-aa0f-c1dd3fd3c1ea",
      "metadata": {
        "id": "04b6e101-ca28-48fa-aa0f-c1dd3fd3c1ea"
      },
      "outputs": [],
      "source": [
        "import matplotlib.pyplot as plt\n",
        "\n",
        "speed_comparison.set_index('area_type').T.plot(kind='bar', figsize=(10, 6))\n",
        "plt.ylabel('Average Availability')\n",
        "plt.title('Broadband Speed Availability: Urban vs Rural')\n",
        "plt.xticks(rotation=45)\n",
        "plt.grid(axis='y')\n",
        "plt.tight_layout()\n",
        "plt.show()\n"
      ]
    },
    {
      "cell_type": "code",
      "execution_count": null,
      "id": "75441464-2002-4013-aff5-c584beee3778",
      "metadata": {
        "id": "75441464-2002-4013-aff5-c584beee3778"
      },
      "outputs": [],
      "source": [
        "#Research Q - What is the level of internet speed in rural areas compared to urban areas?\n",
        "#For each speed level urban areas have higher average availability. Rural areas fall sharply behind for high-performance broadband like 250/25 Mbps and 1000/100 Mbps"
      ]
    }
  ],
  "metadata": {
    "colab": {
      "provenance": [],
      "include_colab_link": true
    },
    "kernelspec": {
      "display_name": "Python [conda env:base] *",
      "language": "python",
      "name": "conda-base-py"
    },
    "language_info": {
      "codemirror_mode": {
        "name": "ipython",
        "version": 3
      },
      "file_extension": ".py",
      "mimetype": "text/x-python",
      "name": "python",
      "nbconvert_exporter": "python",
      "pygments_lexer": "ipython3",
      "version": "3.12.7"
    }
  },
  "nbformat": 4,
  "nbformat_minor": 5
}