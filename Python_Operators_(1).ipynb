{
  "nbformat": 4,
  "nbformat_minor": 0,
  "metadata": {
    "colab": {
      "provenance": [],
      "include_colab_link": true
    },
    "kernelspec": {
      "name": "python3",
      "display_name": "Python 3"
    },
    "language_info": {
      "name": "python"
    }
  },
  "cells": [
    {
      "cell_type": "markdown",
      "metadata": {
        "id": "view-in-github",
        "colab_type": "text"
      },
      "source": [
        "<a href=\"https://colab.research.google.com/github/Zannat98/DataScienceBootcamp-HU-/blob/main/Python_Operators_(1).ipynb\" target=\"_parent\"><img src=\"https://colab.research.google.com/assets/colab-badge.svg\" alt=\"Open In Colab\"/></a>"
      ]
    },
    {
      "cell_type": "markdown",
      "metadata": {
        "id": "TgPxKm5oWwQH"
      },
      "source": [
        "<a id=\"oper\"> </a>\n",
        "# Python Operators\n",
        "Python is a mathamatical computing language like many others before it. The general PEMDAS rules from math apply to Python but operations can be containerized using prentheses to ensure the operations are performed in a specific order. PEMDAS is an abbreviation for the order in which math operations are performed.\n",
        "Let's create a complex equation then take it in parts to understand PEMDAS.\n",
        "\n",
        "  $200 + (17 * (2^{7} - (2 * 6)))/4$ <br>\n",
        "= $200 + (17 * (2^{7} - 12))/4$ <br>\n",
        "= $200 + (17 * (128 - 12))/4$ <br>\n",
        "= $200 + (17 * 116)/4$ <br>\n",
        "= $200 + 1972/4$ <br>\n",
        "= $200 + 493$ <br>\n",
        "= $693$\n",
        "\n",
        "**P**: Parentheses. All operations within the parenthesers are performed first. This includes parentheses within parentheses. This would be the inner parentheses first $(2*6)$ followed by the next parentheses $(2^{7} - 12)$ then finally the outer parentheses $(17 * 116)$<br>\n",
        "\n",
        "**E**: Exponents. Operations in which a number or variable is raised to a power are performed after operations in parentheses. While the exponent $2^{7}$ is within the parentheses, it is not performed first, in this case there is an inner set of parentheses completed. If the parentheses did not exist Python would default to perform the exponent calculation first.<br>\n",
        "\n",
        "**M**: Multiplication. All multiplication elements are completed next. We saw this operation occur on the first set of parentheses with the $2 * 6$ quantity and again with the $17 * 116$\n",
        "\n",
        "**D**: Division. Division is completed as the next operation in the sequence. In our equation this is in step 5 where the parentheses are all performed and we divide $1972/4$.\n",
        "\n",
        "**A**: Addition. All addition calculations are performed. At this point, all the more complex operations are done and all that remains are usually addition and subtraction steps. In PEMDAS you add before you subtract.\n",
        "\n",
        "**S**: Subtraction. The final remaining step is to complete any subtraction steps. This should also include adding negative numbers which is a variation of subtraction.\n"
      ]
    },
    {
      "cell_type": "code",
      "source": [
        "# Our equation from above with the parentheses\n",
        "200 + (17 * (2**7 - (2 * 6)))/4"
      ],
      "metadata": {
        "id": "TF7ZTeWNFN2h"
      },
      "execution_count": null,
      "outputs": []
    },
    {
      "cell_type": "code",
      "source": [
        "# Our equation from above without the parentheses\n",
        "200 + 17 * 2**7 - 2 * 6/4"
      ],
      "metadata": {
        "id": "19eXp4lcFWr0"
      },
      "execution_count": null,
      "outputs": []
    },
    {
      "cell_type": "markdown",
      "source": [
        "The parentheses containerize and direct the order of operations by declaring one specific set of operations to be performed first. Without the parentheses the exponents $2^{7}$ is performed first, then multiplication steps. The values multiplied are then changed such that the quantities are different and the division no longer includes the entire $(17 * (2^{7} - (2 * 6)))$ quantity, just the result of $2 * 6$. Keep in mind the **PEMDAS** rule when creating new variables with your data. A calculation error can change the result and affect the analysis."
      ],
      "metadata": {
        "id": "5_ekmFncGDI0"
      }
    },
    {
      "cell_type": "markdown",
      "metadata": {
        "id": "-Ta6RTyDWwQI"
      },
      "source": [
        "<a id=\"arith\"> </a>\n",
        "## Arithmetic Operators\n",
        "Arithmetic operators are used to perform mathematical operations like addition, subtraction, multiplication, and division."
      ]
    },
    {
      "cell_type": "code",
      "execution_count": 4,
      "metadata": {
        "id": "Q-pEFy-BWwQI",
        "colab": {
          "base_uri": "https://localhost:8080/",
          "height": 36
        },
        "outputId": "7a254d9a-2024-4bc7-ed6d-109046c70e9e"
      },
      "outputs": [
        {
          "output_type": "execute_result",
          "data": {
            "text/plain": [
              "'greetings'"
            ],
            "application/vnd.google.colaboratory.intrinsic+json": {
              "type": "string"
            }
          },
          "metadata": {},
          "execution_count": 4
        }
      ],
      "source": [
        "# Let's create two variables to test operations\n",
        "a = -12\n",
        "b = 5.7\n",
        "c = 2\n",
        "\n",
        "# Call the variables to view their stored values\n",
        "a,b,c\n",
        "\n",
        "g = \"greetings\"\n",
        "g"
      ]
    },
    {
      "cell_type": "markdown",
      "source": [
        "\n",
        "### Addition\n",
        "The basic mathematical operation that combines two numbers, increasing the value to the left of the `+` operator by the amount of the value to the right of the operator. The Addition Identity Property states the order of these values does not matter, the values would be added and produce the same result."
      ],
      "metadata": {
        "id": "wg8vNehKby-G"
      }
    },
    {
      "cell_type": "code",
      "source": [
        "# '+' Operator\n",
        "print('a + b =',a+b)                  # Prints addition of a and b\n",
        "\n",
        "# The order of the values does not matter (Additive Identity Property)\n",
        "print('b + a =',b+a)"
      ],
      "metadata": {
        "id": "oR7uJSzUbY3x",
        "colab": {
          "base_uri": "https://localhost:8080/"
        },
        "outputId": "9385f3ae-5979-41f1-c64a-7604f5e3e6c6"
      },
      "execution_count": 5,
      "outputs": [
        {
          "output_type": "stream",
          "name": "stdout",
          "text": [
            "a + b = -6.3\n",
            "b + a = -6.3\n"
          ]
        }
      ]
    },
    {
      "cell_type": "markdown",
      "source": [
        "### Subtraction\n",
        "The basic subtraction method reduces the value of the left by the amount of the value positioned to the right of the operator. Because the position of the value changes the starting location on a number line, the order of the values in the equation matters. When placed incorrectly the result may yield a different result or even a negative integer. Subtraction can be used for all numerical data types including complex numbers and float values."
      ],
      "metadata": {
        "id": "QcuPBOxUb1o7"
      }
    },
    {
      "cell_type": "code",
      "source": [
        "# '-' Operator\n",
        "print('a - b =',a-b)                  # Prints subtraction of  a and b\n",
        "\n",
        "# The order of the values matters\n",
        "print('b - a =', b-a)"
      ],
      "metadata": {
        "id": "OHekIK97bagM"
      },
      "execution_count": null,
      "outputs": []
    },
    {
      "cell_type": "markdown",
      "source": [
        "### Multiplication\n",
        "Remember that Multiplication is a specific property in math that mimics adding only faster. Because they are related mathematical operations, the Commutive Property of Multiplication states the order of the values does not matter, the result will be the same."
      ],
      "metadata": {
        "id": "nOYsxi1jb4xu"
      }
    },
    {
      "cell_type": "code",
      "source": [
        "# '*' Operator\n",
        "print('a * b =',a*b)                  # Prints multiplication of  a and b\n",
        "\n",
        "# Multiplication Commutive Property states the order doesn't matter\n",
        "print('b * a =', b*a)"
      ],
      "metadata": {
        "id": "Ww1jXwvUbcIq"
      },
      "execution_count": null,
      "outputs": []
    },
    {
      "cell_type": "markdown",
      "source": [
        "### Exponents\n",
        "The `**` operator is used to perform exponent calculations. Think of exponents as multiplying a number by itself a specified number of times. Python reads the exponents operation in a specific order. The value to the left of the `**` operator is the number being raised to the power of the value to the right of the `**` symbol. So $a^{n}$ is written as `a ** n` in Python. If the values were reversed this is a very different result so be careful the values or variables are in the correct order."
      ],
      "metadata": {
        "id": "DHNs-_nzcIWC"
      }
    },
    {
      "cell_type": "code",
      "source": [
        "# '**' Operator\n",
        "print('b ** c =',b**c)                # Prints the result of a to the power b\n",
        "\n",
        "# The order of the values matters\n",
        "print('b ** a =', b**a)\n",
        "\n",
        "# This operation works to produce complex numbers too.\n",
        "print('a ** b =',a**b)"
      ],
      "metadata": {
        "id": "KgRqMQyobi6M"
      },
      "execution_count": null,
      "outputs": []
    },
    {
      "cell_type": "markdown",
      "source": [
        "### Division\n",
        "As a Mathematical language Python performs quite a few math operations. To remember which type of division needed let's review the names of the parts of the division equation. Let's use <br>\n",
        "$a \\div b = c + r$ or <br>\n",
        "Dividend ÷ Divisor = Quotient + Remainder<br>\n",
        "\n",
        "\n",
        "* **Dividend**: This is the number being divided. In our equation above, the dividend is a.<br>\n",
        "\n",
        "* **Divisor**: This is the number doing the dividing. In our equation above, the divisor is b.<br>\n",
        "\n",
        "* **Quotient**: This is the integer value that is the result of dividing a by b. In the equation above this value is c.<br>\n",
        "\n",
        "* **Remainder**: This is the remaining amount when division does not produce a whole value for the quotient. When continuing to divide, this value can be represented as a the float portion of the result or can be written as a plus sign and an integer.\n",
        "\n",
        "Python recognizes the need to capture each element of the division result and there are multiple operators to return those values.\n",
        "\n",
        "![divparts8973419354078479641.png](data:image/png;base64,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)\n"
      ],
      "metadata": {
        "id": "_MtNIXv5b_U8"
      }
    },
    {
      "cell_type": "markdown",
      "source": [
        "The regular division operation completes the division up to 25 decimal places, depending on the computing power your machine is using. These long floats take up alot of memory space and when performing scientific calculations we should remember to use significant figures. This uses another python module you can research, `round()` and `decimal.getcontext()`.\n",
        "\n",
        "Read more about these here:\n",
        "* https://docs.python.org/3/library/decimal.html\n",
        "* https://docs.python.org/3/library/functions.html#round"
      ],
      "metadata": {
        "id": "1w6VK7FYIHLV"
      }
    },
    {
      "cell_type": "code",
      "source": [
        "# '/' Operator: returns float result\n",
        "print('a / b =', a/b)                  # Prints division of  a and b\n",
        "\n",
        "# The order of the values matters\n",
        "print('b / a =', b/a)"
      ],
      "metadata": {
        "id": "2zjhKqoIbfpW"
      },
      "execution_count": null,
      "outputs": []
    },
    {
      "cell_type": "markdown",
      "source": [
        "The integer division operator `//` is used to produce just the quotient in the division equation. This operation does not round the remainder in or express it as a float but returns the integer quotient value."
      ],
      "metadata": {
        "id": "TtBJKNcLcPjx"
      }
    },
    {
      "cell_type": "code",
      "source": [
        "# '//' Operator\n",
        "print('a // b =', a//b)                # Prints the integer value of the division between a and b\n",
        "\n",
        "# The order of the values matters\n",
        "print('b // a =', b//a)"
      ],
      "metadata": {
        "id": "9kiJomT8bhTH"
      },
      "execution_count": null,
      "outputs": []
    },
    {
      "cell_type": "markdown",
      "source": [
        "### Division: Remainder Only\n",
        "The modulus (percent sign) is used to return the remainder value as an integer from division. This is frequently used to qualify next steps when a value has uneven division. We will get to that next week."
      ],
      "metadata": {
        "id": "j-Ww3YVFb7LV"
      }
    },
    {
      "cell_type": "code",
      "source": [
        "# '%' Operator\n",
        "print('a % b =',a%b)                  # Prints remainder of division between a and b\n",
        "\n",
        "# The order of the values matters\n",
        "print('b % a =', b%a)\n",
        "\n",
        "# The result is an integer when the starting values are integers\n",
        "print('c % a =',c%a)"
      ],
      "metadata": {
        "id": "nMDV5i8ibd09"
      },
      "execution_count": null,
      "outputs": []
    },
    {
      "cell_type": "markdown",
      "metadata": {
        "id": "5E-kgOQyWwQJ"
      },
      "source": [
        "<a id=\"comp\"> </a>\n",
        "### Comparison Operator\n",
        "Comparison Operator carries out the comparison between operands. They tell us whether an operand is greater than the other, lesser, equal, or a combination of those. It either returns <em>True</em> or <em>False</em> according to the condition."
      ]
    },
    {
      "cell_type": "code",
      "execution_count": null,
      "metadata": {
        "id": "ei8_yWjXWwQJ"
      },
      "outputs": [],
      "source": [
        "# Lets assign new values for our variables\n",
        "a = 10\n",
        "b = 20\n",
        "c = '10'\n",
        "d = 20"
      ]
    },
    {
      "cell_type": "markdown",
      "source": [
        "### Greater than: `>`"
      ],
      "metadata": {
        "id": "JTJ_JzfTs2kl"
      }
    },
    {
      "cell_type": "code",
      "source": [
        "# '>' Operator\n",
        "print('a > b is',a>b)                 # Prints False since a is smaller than b\n",
        "\n",
        "# The order of the values matter, b is greater than a\n",
        "print('b > a is',b>a)\n",
        "\n",
        "# When the values are equal and neither is greater than the other\n",
        "print('b > d is',b>d)\n",
        "\n",
        "# When the values are the same but the dtypes are not\n",
        "# This will return an error, comparison must be the same dtype\n",
        "print('a > c is',a>c)"
      ],
      "metadata": {
        "id": "PUYR2xTOq6Bf"
      },
      "execution_count": null,
      "outputs": []
    },
    {
      "cell_type": "markdown",
      "source": [
        "### Less than: `<`"
      ],
      "metadata": {
        "id": "l051TOF2s53R"
      }
    },
    {
      "cell_type": "code",
      "source": [
        "# '<' Operator\n",
        "print('a < b  is',a<b)                 # Prints True since a is smaller than b\n",
        "\n",
        "# The order of the values matter, b is greater than a\n",
        "print('b < a is',b<a)\n",
        "\n",
        "# When the values are equal and neither is greater than the other\n",
        "print('b < d is',b<d)\n",
        "\n",
        "# When the values are the same but the dtypes are not\n",
        "# This will return an error, comparison must be the same dtype\n",
        "print('a < c is',a<c)"
      ],
      "metadata": {
        "id": "ej47GUCfq7bE"
      },
      "execution_count": null,
      "outputs": []
    },
    {
      "cell_type": "markdown",
      "source": [
        "### Boolean Equal `==`\n",
        "This uses two equal signs to compare the value on the left with the value on the right of the operators. For this to return True, both the value and the data type must be the same."
      ],
      "metadata": {
        "id": "fKAyYz9us9Vq"
      }
    },
    {
      "cell_type": "code",
      "source": [
        "# '==' Operator\n",
        "print('a == b is',a==b)                 # Prints False since a and b are not equal\n",
        "\n",
        "# Let's try it with a string value, recall a is the integer value 10\n",
        "print('a == c is', a==c)\n",
        "\n",
        "# When the value and data type are the same\n",
        "print('b == d is', b==d)"
      ],
      "metadata": {
        "id": "O_y5hEaKq8_5"
      },
      "execution_count": null,
      "outputs": []
    },
    {
      "cell_type": "code",
      "source": [
        "# '!=' Operator\n",
        "print('a != b is',a!=b)                 # Prints True since a is not equal to b\n",
        "\n",
        "# Return True when the values are the same, but dtype is different\n",
        "print('a != c is', a!=c)\n",
        "\n",
        "# Return False when the values and dtypes are the same\n",
        "print('b != d is', b!=d)"
      ],
      "metadata": {
        "id": "pK5w4PHKq_HB"
      },
      "execution_count": null,
      "outputs": []
    },
    {
      "cell_type": "code",
      "source": [
        "# '>=' Operator\n",
        "print('a >= b is',a>=b)                 # Prints False since a is not smaller nor equal to b\n",
        "\n",
        "# When one part of the condition is met the return is True\n",
        "print('b >= d is', b>=d)\n",
        "\n",
        "# Both the value and the dtype must match to be True\n",
        "# This will return an error, comparison must be the same dtype\n",
        "print('a >= c  is',a>=c)"
      ],
      "metadata": {
        "id": "-S9eqS6mrArF"
      },
      "execution_count": null,
      "outputs": []
    },
    {
      "cell_type": "code",
      "source": [
        "# '<= y' Operator\n",
        "print('a <= b is',a<=b)                 # Prints True since a is smaller than b\n",
        "\n",
        "# Returns False because b is not less than or equal to a\n",
        "print('b <= a is', b<=a)\n",
        "\n",
        "# Both the value and the dtype must match to be True\n",
        "# This will return an error, comparison must be the same dtype\n",
        "print('a <= c  is',a<=c)"
      ],
      "metadata": {
        "id": "cWIeAa5KrB9T"
      },
      "execution_count": null,
      "outputs": []
    },
    {
      "cell_type": "markdown",
      "metadata": {
        "id": "DHAWZfnRWwQL"
      },
      "source": [
        "<a id=\"assign\"> </a>\n",
        "### Assignment Operator\n",
        "An assignment operator assigns a value to a variable. When combined with the mathematical operators, it may manipulate the value by a factor before assigning it. When these operations are performed, the values are automatically updated in the variable assignment.\n",
        "* A variable can be assigned a value using the `=` sign. `x = 5`\n",
        "* A variable can be manipulated by combining mathematical operators and the equal sign. `x += 5` will increase the existing value of x by five and update x with the new value.\n",
        "* The equal sign can be included to update a variable assignment with the mathematical `+`, `-`, `*`, and `/`."
      ]
    },
    {
      "cell_type": "code",
      "execution_count": null,
      "metadata": {
        "id": "7WeHVcSIWwQL"
      },
      "outputs": [],
      "source": [
        "# '=' Operator\n",
        "x = 5                                 # Assigns the value to the variable on the left\n",
        "print(\"x = \", x)"
      ]
    },
    {
      "cell_type": "code",
      "source": [
        "# '+=' Operator\n",
        "# Adds the values on either side and assigns it to the expression on the left. x+=5 is the same as x=x+5.\n",
        "x += 5\n",
        "print(\"Updated value of x after (x += 5) is\", x)"
      ],
      "metadata": {
        "id": "iQLsRgvjrO2G"
      },
      "execution_count": null,
      "outputs": []
    },
    {
      "cell_type": "code",
      "source": [
        "# '-=' Operator\n",
        "# Subtracts 2 from the latest value of x and assigns it to x(which is 10).\n",
        "x -=2\n",
        "print(\"Updated value of x after (x -=2) is\", x)"
      ],
      "metadata": {
        "id": "jAnfNheMrQyk"
      },
      "execution_count": null,
      "outputs": []
    },
    {
      "cell_type": "code",
      "source": [
        "# '*=' Operator\n",
        "# Multiplies the current value of x with 2 and assigns the result to the same variable\n",
        "x *= 2\n",
        "print(\"Updated value of x after (x *= 2) is\", x)"
      ],
      "metadata": {
        "id": "vtpaTQOvrSXm"
      },
      "execution_count": null,
      "outputs": []
    },
    {
      "cell_type": "code",
      "source": [
        "# '/=' Operator\n",
        "# Divides the current value of x with 4 and assigns the result to the same variable\n",
        "x /= 4\n",
        "print('Updated value of x after (x /= 2) is', x)"
      ],
      "metadata": {
        "id": "EQQMkO6nrT0z"
      },
      "execution_count": null,
      "outputs": []
    },
    {
      "cell_type": "markdown",
      "metadata": {
        "id": "KhOFmuWmWwQM"
      },
      "source": [
        "<em>i+=1 is the same as i=i+1, whereas i=+1 just means i=(+1)</em>"
      ]
    },
    {
      "cell_type": "markdown",
      "metadata": {
        "id": "OeuiSmbLWwQM"
      },
      "source": [
        "<a id=\"logic\"> </a>\n",
        "### Logical Operators\n",
        "Logical operators are like conjunctions that you can use to combine more than one condition. We have three Python logical operator – **<em>and</em>**, **<em>or</em>**, and **<em>not</em>** that come under python operators."
      ]
    },
    {
      "cell_type": "markdown",
      "metadata": {
        "id": "_8T3z6drWwQM"
      },
      "source": [
        "#### 'and' Operator\n",
        "If the conditions on both the sides of the operator are true, then the expression as a whole is true."
      ]
    },
    {
      "cell_type": "code",
      "execution_count": null,
      "metadata": {
        "id": "vvanF5POWwQM"
      },
      "outputs": [],
      "source": [
        "x = 11\n",
        "a = x>10 and x<20\n",
        "print(a)"
      ]
    },
    {
      "cell_type": "markdown",
      "metadata": {
        "id": "moUtA-A7WwQN"
      },
      "source": [
        "Here both the conditions are satisfied. Therefore we have True as the output."
      ]
    },
    {
      "cell_type": "code",
      "execution_count": null,
      "metadata": {
        "id": "vCxHTtWpWwQN"
      },
      "outputs": [],
      "source": [
        "x = 11\n",
        "a = x>10 and x==12\n",
        "print(a)"
      ]
    },
    {
      "cell_type": "markdown",
      "metadata": {
        "id": "_JFu5BW1WwQO"
      },
      "source": [
        "Here one of the condition is not satisfied. Therefore we have False as the output."
      ]
    },
    {
      "cell_type": "markdown",
      "metadata": {
        "id": "ZJaxiiqkWwQO"
      },
      "source": [
        "#### 'or' Operator\n",
        "The expression is false only if both the statements around the operator are false. Otherwise, it is true."
      ]
    },
    {
      "cell_type": "code",
      "execution_count": null,
      "metadata": {
        "id": "96UjEwpGWwQO"
      },
      "outputs": [],
      "source": [
        "x = 11\n",
        "a = x>10 or x==20\n",
        "print(a)"
      ]
    },
    {
      "cell_type": "markdown",
      "metadata": {
        "id": "8veZvQOoWwQP"
      },
      "source": [
        "Here one of the condition is satisfied. Therefore we have True as the output."
      ]
    },
    {
      "cell_type": "code",
      "execution_count": null,
      "metadata": {
        "id": "uVnlov7rWwQP"
      },
      "outputs": [],
      "source": [
        "x = 11\n",
        "a = x>12 or x==20\n",
        "print(a)"
      ]
    },
    {
      "cell_type": "markdown",
      "metadata": {
        "id": "WZFPqv9AWwQQ"
      },
      "source": [
        "None of the above condition is True. Therefore we have False as the output"
      ]
    },
    {
      "cell_type": "markdown",
      "source": [
        "## Python as a Numerical Coding Language\n",
        "Python is a numerical coding language with the ability to use the mathematical methods to calculate values on very large data sets. To grasp how valuable this could be, imagine using a dataset that includes every country in the world. This dataset could include the annual population for the last fifty years for each country as well as the gross domestic product or annual income of the country. Using Python, we could calculate the value for how much each country has as income per number of individuals (per capita) based on their population. This is a simple division calculation but if we consider [the World Bank](https://data.worldbank.org/) collects voluntary data for more than 170 countries, across the last fifty years, this calculation would take a human many hours if not days to complete. Spreadsheet programs truncate or cut off data larger than their sheets can read so you might miss some of the countries or years of data using a spreadsheet. Python could calculate the values within minutes, allowing you to continue with your analysis and gain those useful insights needed for policy or social programs to improve human life.\n",
        "\n",
        "Let's practice creating some calculations using Python."
      ],
      "metadata": {
        "id": "vQqFjafvwgYG"
      }
    },
    {
      "cell_type": "markdown",
      "source": [
        "### Problem Statement:\n",
        "**Obesity is a very important risk factor to many diseases especially type 2 diabetes. However very little epidemiological information is available in Ghana to support intervention activities.**"
      ],
      "metadata": {
        "id": "AspRprUN95oq"
      }
    },
    {
      "cell_type": "markdown",
      "source": [
        "Body Mass Index is a simple calculation using a person's height and weight. While this is an arbitrary calculation it is not always an accurate measure of health. For instance, the BMI does not accommodate all body shapes and sizes. When combined with other laboratory measurements of insulin function and fasting blood sugar, it is often used as a predictor for Type 2 diabetes risk.\n",
        "* A BMI of 25.0 or more is overweight,\n",
        "* A healthy range is 18.5 to 24.9.\n",
        "\n",
        "BMI applies to most adults 18-65 years.\n",
        "\n",
        "1. Create a Python formula/code that calculates the BMI of a person based on their weight (in kilograms) and height (in meters).\n",
        "\n",
        "  * **Create three variables: BMI is a measure of body fat based, an individual's weight, and an individual's height.**\n",
        "  * Print the BMI as a float, and add comments describing the level of measurement.\n",
        "\n",
        "When using non-metric measurements, ounces (oz) must be converted to pounds and fractions must be changed to decimal values. Then, calculate BMI by dividing weight in pounds (lb) by height in inches (in) squared and multiplying by a conversion factor of 703."
      ],
      "metadata": {
        "id": "wliSbVaW7aK4"
      }
    },
    {
      "cell_type": "code",
      "source": [
        "weight = int(input(\"What is your weight ozin ?\"))\n",
        "height = int(input(\"What is your height in in\"))\n",
        "BMI = (weight/height**2)*703\n",
        "BMI"
      ],
      "metadata": {
        "colab": {
          "base_uri": "https://localhost:8080/"
        },
        "id": "x0LKwf_DHY6t",
        "outputId": "54af00ed-6db0-4e23-98c4-ee1f7086e615"
      },
      "execution_count": 10,
      "outputs": [
        {
          "name": "stdout",
          "output_type": "stream",
          "text": [
            "What is your weight ozin ?70\n",
            "What is your height in in25\n"
          ]
        },
        {
          "output_type": "execute_result",
          "data": {
            "text/plain": [
              "78.736"
            ]
          },
          "metadata": {},
          "execution_count": 10
        }
      ]
    },
    {
      "cell_type": "code",
      "source": [
        "# First let's create the variables:\n",
        "weight = 1 #individual's weight lb\n",
        "height = 1 #individual's height in\n",
        "\n",
        "# Now let's build the calculation\n",
        "#BMI is a measure of body fat based\n",
        "BMI = (weight/(height**2))*703\n",
        "\n",
        "# Print BMI float\n",
        "print(\"The BMI is: \", BMI)"
      ],
      "metadata": {
        "id": "tP2OsvpJ8LQi"
      },
      "execution_count": null,
      "outputs": []
    },
    {
      "cell_type": "markdown",
      "source": [
        "Let’s calculate Sam’s BMI using the English numeric system. His weight is 37 pounds and 4 ounces and his height is 41 1/2 inches."
      ],
      "metadata": {
        "id": "XJ0OO9BG9J1y"
      }
    },
    {
      "cell_type": "code",
      "source": [
        "#variables:\n",
        "lbs = 37 #pounds\n",
        "oz = 4 #ounces\n",
        "weight_cov = lbs + (oz/16) #conversation of lbs and ounces\n",
        "print(\"The weight conversion is:\", weight_cov)"
      ],
      "metadata": {
        "id": "sX5HxU0X9L7Y"
      },
      "execution_count": null,
      "outputs": []
    },
    {
      "cell_type": "code",
      "source": [
        "weight = weight_cov #individual's converted weight in lbs\n",
        "height = 41.5 #individual's height in\n",
        "\n",
        "BMI = (weight/(height**2))*703\n",
        "\n",
        "print(\"The BMI for Sam is: \", BMI) #print BMI float"
      ],
      "metadata": {
        "id": "hm4nmlMd1_y3"
      },
      "execution_count": null,
      "outputs": []
    },
    {
      "cell_type": "markdown",
      "source": [
        "**Formula the Canadian version of BMI.**\n",
        "\n",
        "Canada uses the metric system so the calculation is just a little different. The formula is BMI = kg/m$^2$ where kg is a person's weight in kilograms and m$^2$ is their height in metres squared."
      ],
      "metadata": {
        "id": "grbB28x78ZrM"
      }
    },
    {
      "cell_type": "code",
      "source": [
        "#variables:\n",
        "kg = 80 #individual's weight kg\n",
        "m = 1.77 #individual's height m\n",
        "\n",
        "BMI = kg/m**2\n",
        "\n",
        "print(\" The BMI is: \", BMI)"
      ],
      "metadata": {
        "id": "1RBaeDNF8gQT"
      },
      "execution_count": null,
      "outputs": []
    },
    {
      "cell_type": "markdown",
      "source": [
        "Now let's get fancy! Remember the input statement from Python Print Statements? Let's combine the input statement and the calculation."
      ],
      "metadata": {
        "id": "9p3dQmV727DX"
      }
    },
    {
      "cell_type": "code",
      "source": [
        "# Build the input statement\n",
        "kg = input(\"Please enter the weight in kilograms: \")\n",
        "m = input(\" Please enter the height in meters: \")\n",
        "\n",
        "print(\" The BMI is: \", BMI)"
      ],
      "metadata": {
        "id": "FNAL8Etp26qW"
      },
      "execution_count": null,
      "outputs": []
    }
  ]
}