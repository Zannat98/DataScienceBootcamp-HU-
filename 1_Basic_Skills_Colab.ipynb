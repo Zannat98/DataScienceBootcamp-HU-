{
  "nbformat": 4,
  "nbformat_minor": 0,
  "metadata": {
    "colab": {
      "provenance": [],
      "include_colab_link": true
    },
    "kernelspec": {
      "name": "python3",
      "display_name": "Python 3"
    },
    "language_info": {
      "name": "python"
    }
  },
  "cells": [
    {
      "cell_type": "markdown",
      "metadata": {
        "id": "view-in-github",
        "colab_type": "text"
      },
      "source": [
        "<a href=\"https://colab.research.google.com/github/Zannat98/DataScienceBootcamp-HU-/blob/main/1_Basic_Skills_Colab.ipynb\" target=\"_parent\"><img src=\"https://colab.research.google.com/assets/colab-badge.svg\" alt=\"Open In Colab\"/></a>"
      ]
    },
    {
      "cell_type": "markdown",
      "source": [
        "**Basic Skills**"
      ],
      "metadata": {
        "id": "QsMcraBt-STv"
      }
    },
    {
      "cell_type": "markdown",
      "source": [
        "**1. Printing**"
      ],
      "metadata": {
        "id": "5i-u20qy_PDG"
      }
    },
    {
      "cell_type": "markdown",
      "source": [
        "Printing allows us to show output onto our console. We do this by passing values to the builtin print() command in python.\n",
        "\n",
        "Comments are lines that should be ignored by the program when being executed. Comments are denoted by the '#' sign."
      ],
      "metadata": {
        "id": "NdOBIh04LbzJ"
      }
    },
    {
      "cell_type": "code",
      "source": [
        "print(\"Hello Black World\")\n",
        "print(\"hello black world\")\n",
        "print(\"Hello\")"
      ],
      "metadata": {
        "colab": {
          "base_uri": "https://localhost:8080/"
        },
        "id": "P3jlhLxO-Pxc",
        "outputId": "14c12eb6-cfe4-4819-f2fe-146e1ca60a1f"
      },
      "execution_count": 1,
      "outputs": [
        {
          "output_type": "stream",
          "name": "stdout",
          "text": [
            "Hello Black World\n",
            "hello black world\n",
            "Hello\n"
          ]
        }
      ]
    },
    {
      "cell_type": "markdown",
      "source": [
        "**2.Commenting**"
      ],
      "metadata": {
        "id": "Nrb_i3_M_T8c"
      }
    },
    {
      "cell_type": "markdown",
      "source": [
        "\n",
        "Comments are lines that should be ignored by the program when being executed. Comments are denoted by the '#' sign."
      ],
      "metadata": {
        "id": "Dhg4H5xu_fZx"
      }
    },
    {
      "cell_type": "code",
      "source": [
        "#Variables are containers that hold values of a particular datatype\n",
        "#Note the names of Variables are case sensitive\n",
        "\n",
        "greeting = \"Hello, Black World!\"\n",
        "Greeting = \"Mekyea wo\" #twi for Ghana\n",
        "GREETING = \"What's good?\"\n",
        "#I am commenting"
      ],
      "metadata": {
        "id": "E60GFcsr_Wow"
      },
      "execution_count": 3,
      "outputs": []
    },
    {
      "cell_type": "markdown",
      "source": [
        "**3. Variables**"
      ],
      "metadata": {
        "id": "VH7rxVnI-Y52"
      }
    },
    {
      "cell_type": "code",
      "source": [
        "#Variables are containers that hold values of a particular datatype\n",
        "#Note the names of Variables are case sensitive\n",
        "\n",
        "greeting = \"Hello, Black World!\"\n",
        "GreetingTwi = \"Mekyea wo\"\n",
        "GREETING = \"What's good?\"\n",
        "UgMaj = \"Undergrad Major\"\n",
        "\n",
        "x=1\n",
        "y=2\n",
        "\n",
        "#names of variables should either start with a letter or and _, but not with a a number.\n",
        "\n",
        "print(greeting)\n",
        "print(GreetingTwi)\n",
        "print(GREETING)\n",
        "\n",
        "x+y\n",
        "\n",
        "x = 7\n",
        "x = \"_new\"\n",
        "print(x)\n",
        "\n"
      ],
      "metadata": {
        "id": "o8UXxy2E-d-R",
        "colab": {
          "base_uri": "https://localhost:8080/"
        },
        "outputId": "0e31c951-c26d-4113-bd81-085bc1445aaf"
      },
      "execution_count": 8,
      "outputs": [
        {
          "output_type": "stream",
          "name": "stdout",
          "text": [
            "Hello, Black World!\n",
            "Mekyea wo\n",
            "What's good?\n",
            "_new\n"
          ]
        }
      ]
    },
    {
      "cell_type": "markdown",
      "source": [
        "**4. Datatypes**"
      ],
      "metadata": {
        "id": "9t21-DxU-jlg"
      }
    },
    {
      "cell_type": "markdown",
      "source": [
        "A *String* is a collection of characters, numbers, or symbols and is represented by the use of \" \"."
      ],
      "metadata": {
        "id": "GiU965cI-tyK"
      }
    },
    {
      "cell_type": "code",
      "source": [
        "string_variable = \"Africa is not a country!\"\n",
        "print(string_variable)"
      ],
      "metadata": {
        "id": "2XDLLhMB-yJR"
      },
      "execution_count": null,
      "outputs": []
    },
    {
      "cell_type": "markdown",
      "source": [
        "A *Integer* is a whole number. Can be negative or positive."
      ],
      "metadata": {
        "id": "goBwZih7-xD_"
      }
    },
    {
      "cell_type": "code",
      "source": [
        "int_variable = -50\n",
        "print(int_variable)"
      ],
      "metadata": {
        "id": "N9iaNLCG-3mU"
      },
      "execution_count": null,
      "outputs": []
    },
    {
      "cell_type": "code",
      "source": [
        "type(int_variable)"
      ],
      "metadata": {
        "id": "CprtZNfyUtSP"
      },
      "execution_count": null,
      "outputs": []
    },
    {
      "cell_type": "markdown",
      "source": [
        "A *Float* is a number that has a decimal portion. Can be positive or negative."
      ],
      "metadata": {
        "id": "Sc9fJ9uC-58w"
      }
    },
    {
      "cell_type": "code",
      "source": [
        "float_variable =  26.5\n",
        "print(float_variable)\n",
        "\n",
        "type(float_variable)"
      ],
      "metadata": {
        "id": "JDeHxNeK-8oC",
        "outputId": "0f0129fe-63e7-41c5-f2e6-5c236acc6f2a",
        "colab": {
          "base_uri": "https://localhost:8080/"
        }
      },
      "execution_count": null,
      "outputs": [
        {
          "output_type": "stream",
          "name": "stdout",
          "text": [
            "26.5\n"
          ]
        },
        {
          "output_type": "execute_result",
          "data": {
            "text/plain": [
              "float"
            ]
          },
          "metadata": {},
          "execution_count": 1
        }
      ]
    },
    {
      "cell_type": "markdown",
      "source": [
        "A *Boolean* is a value that is either True or False, but not both."
      ],
      "metadata": {
        "id": "lx1HYYke_Aff"
      }
    },
    {
      "cell_type": "code",
      "source": [
        "boolean_variable = True\n",
        "print(boolean_variable)"
      ],
      "metadata": {
        "id": "6YtG6grM--vb",
        "colab": {
          "base_uri": "https://localhost:8080/"
        },
        "outputId": "48abffbd-d5a8-444e-da13-58c88f5df8b1"
      },
      "execution_count": 9,
      "outputs": [
        {
          "output_type": "stream",
          "name": "stdout",
          "text": [
            "True\n"
          ]
        }
      ]
    },
    {
      "cell_type": "markdown",
      "source": [
        "Use **type** to check data type"
      ],
      "metadata": {
        "id": "jTERzyuoUBKr"
      }
    },
    {
      "cell_type": "code",
      "source": [
        "type(5)"
      ],
      "metadata": {
        "id": "tV5kIfvHUA-h"
      },
      "execution_count": null,
      "outputs": []
    },
    {
      "cell_type": "code",
      "source": [
        "type(20705.789)"
      ],
      "metadata": {
        "id": "DiCjPXNGUYox"
      },
      "execution_count": null,
      "outputs": []
    },
    {
      "cell_type": "code",
      "source": [
        "type(5)"
      ],
      "metadata": {
        "id": "AWQ1lDveUYyg"
      },
      "execution_count": null,
      "outputs": []
    },
    {
      "cell_type": "markdown",
      "source": [
        "**Let's Practice **"
      ],
      "metadata": {
        "id": "6BUX7cJ5_Dix"
      }
    },
    {
      "cell_type": "code",
      "source": [],
      "metadata": {
        "id": "AVZ2G-EaNL0_"
      },
      "execution_count": null,
      "outputs": []
    },
    {
      "cell_type": "code",
      "source": [],
      "metadata": {
        "id": "pwR_d5pwOjxJ"
      },
      "execution_count": null,
      "outputs": []
    },
    {
      "cell_type": "code",
      "source": [],
      "metadata": {
        "id": "Lp_Dn9JIVGeL"
      },
      "execution_count": null,
      "outputs": []
    }
  ]
}