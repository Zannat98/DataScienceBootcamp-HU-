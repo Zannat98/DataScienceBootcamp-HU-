{
  "nbformat": 4,
  "nbformat_minor": 0,
  "metadata": {
    "colab": {
      "provenance": [],
      "include_colab_link": true
    },
    "kernelspec": {
      "name": "python3",
      "display_name": "Python 3"
    },
    "language_info": {
      "name": "python"
    }
  },
  "cells": [
    {
      "cell_type": "markdown",
      "metadata": {
        "id": "view-in-github",
        "colab_type": "text"
      },
      "source": [
        "<a href=\"https://colab.research.google.com/github/Zannat98/DataScienceBootcamp-HU-/blob/main/Practice_(conditional_statement).ipynb\" target=\"_parent\"><img src=\"https://colab.research.google.com/assets/colab-badge.svg\" alt=\"Open In Colab\"/></a>"
      ]
    },
    {
      "cell_type": "code",
      "execution_count": 28,
      "metadata": {
        "id": "cekChtY6T3vk",
        "colab": {
          "base_uri": "https://localhost:8080/"
        },
        "outputId": "6dfc6837-6098-4451-fb76-3bb0614dd662"
      },
      "outputs": [
        {
          "output_type": "stream",
          "name": "stdout",
          "text": [
            "1st command if organ\n",
            "2nd cojhvjluyluygyu\n"
          ]
        }
      ],
      "source": [
        "if 5 > 4:\n",
        "    print(\"1st command if organ\")\n",
        "    print(\"2nd cojhvjluyluygyu\")\n",
        "\n"
      ]
    },
    {
      "cell_type": "code",
      "source": [
        "x = -5\n",
        "y = 10\n",
        "if x > 0 or y > 0:\n",
        "  print (\"Atleast one condition failed\")\n",
        "else:\n",
        "  print (\"Both x and y are positive\")\n"
      ],
      "metadata": {
        "colab": {
          "base_uri": "https://localhost:8080/"
        },
        "id": "rIJudDyKUQAM",
        "outputId": "2a9e2adf-49b3-4d9b-aa76-c080ddac9af5"
      },
      "execution_count": 9,
      "outputs": [
        {
          "output_type": "stream",
          "name": "stdout",
          "text": [
            "Atleast one condition failed\n"
          ]
        }
      ]
    },
    {
      "cell_type": "code",
      "source": [
        "if 7 !=10 :\n",
        "    print(\"The above statement is true\")\n",
        "\n",
        "else:\n",
        "    print(\"This is not related to the if statement\")\n"
      ],
      "metadata": {
        "colab": {
          "base_uri": "https://localhost:8080/"
        },
        "id": "UvjLrsfo-xg4",
        "outputId": "d2780324-3950-4a78-b8bf-4615fb7874ad"
      },
      "execution_count": 13,
      "outputs": [
        {
          "output_type": "stream",
          "name": "stdout",
          "text": [
            "The above statement is true\n"
          ]
        }
      ]
    },
    {
      "cell_type": "code",
      "source": [
        "grade = int(input(\"What is your grade? \"))\n",
        "if grade>70:\n",
        "   print(\"Congrats, you passed the class\")\n",
        "elif grade==70:\n",
        "   print(\"You jjust saved your life\")\n",
        "else:\n",
        "  print(\"let's try again\")"
      ],
      "metadata": {
        "colab": {
          "base_uri": "https://localhost:8080/"
        },
        "id": "0oC-A2DGWxaQ",
        "outputId": "f3d50871-dad5-4cb4-c3eb-dc5d2e234351"
      },
      "execution_count": 23,
      "outputs": [
        {
          "output_type": "stream",
          "name": "stdout",
          "text": [
            "What is your grade? 69\n",
            "let's try again\n"
          ]
        }
      ]
    },
    {
      "cell_type": "code",
      "source": [
        "if 5 > 4:\n",
        "    print(\"The boolean expression is true\")\n"
      ],
      "metadata": {
        "colab": {
          "base_uri": "https://localhost:8080/"
        },
        "id": "KcErkDdtBM3H",
        "outputId": "427c853b-348b-4df0-bcfb-8e0c40bb7dca"
      },
      "execution_count": 30,
      "outputs": [
        {
          "output_type": "stream",
          "name": "stdout",
          "text": [
            "The boolean expression is true\n"
          ]
        }
      ]
    },
    {
      "cell_type": "code",
      "source": [
        "my_bool = True\n",
        "\n",
        "if my_bool:\n",
        "    print(\"The value of my_bool is true\")\n",
        "else:\n",
        "    print(\"The value of my_bool is false\")\n"
      ],
      "metadata": {
        "colab": {
          "base_uri": "https://localhost:8080/"
        },
        "id": "y9vSIep4BgMV",
        "outputId": "c3733a22-6c43-4672-bb3c-b49c210a552e"
      },
      "execution_count": 31,
      "outputs": [
        {
          "output_type": "stream",
          "name": "stdout",
          "text": [
            "The value of my_bool is true\n"
          ]
        }
      ]
    },
    {
      "cell_type": "code",
      "source": [
        "num = 4\n",
        "\n",
        "if num % 2 == 0:\n",
        "    print(str(num) + \" is an even number\")\n",
        "else:\n",
        "    print(str(num) + \" is an odd number\")\n"
      ],
      "metadata": {
        "colab": {
          "base_uri": "https://localhost:8080/"
        },
        "id": "q-wMZNW-Bpt-",
        "outputId": "1a9ba2dc-d47f-4e62-e03c-2fe5f18ff8bb"
      },
      "execution_count": 29,
      "outputs": [
        {
          "output_type": "stream",
          "name": "stdout",
          "text": [
            "4 is an even number\n"
          ]
        }
      ]
    },
    {
      "cell_type": "code",
      "source": [
        "a = 500\n",
        "b = \"July\"\n",
        "\n",
        "if a < 10:\n",
        "    print(str(a) + \" is less than 10\")\n",
        "elif a < 20:\n",
        "    print(str(a) + \" is less than 20\")\n",
        "elif a < 30:\n",
        "    print(str(a) + \" less than 30\")\n",
        "else:\n",
        "    print(str(a) + \" is greater than 30 \"+ b)\n",
        "    print(b)\n"
      ],
      "metadata": {
        "colab": {
          "base_uri": "https://localhost:8080/"
        },
        "id": "uMM_t49-C6yw",
        "outputId": "cbcc1383-7c0d-406a-9f79-3897187ac9a7"
      },
      "execution_count": null,
      "outputs": [
        {
          "output_type": "stream",
          "name": "stdout",
          "text": [
            "500 is greater than 30 July\n",
            "July\n"
          ]
        }
      ]
    },
    {
      "cell_type": "code",
      "source": [
        "# create a list of Black artists\n",
        "black_artists = [\"Jean-Michel Basquiat\", \"Romare Bearden\",\"Kara Walker\", \"Lorna Simpson\", \"Kerry James Marshall\"]\n",
        "\n",
        "# check for 'Kehinde Wiley'\n",
        "if 'Kehinde Wiley' in black_artists:\n",
        "  print('Kehinde Wiley is on the list')\n",
        "else:\n",
        "  print('Kehinde Wiley is not on the list')\n",
        "\n",
        "\n",
        "my_list = [\"rice\",\"meat\",\"vegetables\"]\n",
        "if \"rice\" in my_list:\n",
        "  print(\"rice is in the list\")\n",
        "\n",
        "my_numbers = [1,2,3,4,5]\n",
        "if 3 in my_numbers:\n",
        "  print(\"3 is in the list\")"
      ],
      "metadata": {
        "colab": {
          "base_uri": "https://localhost:8080/"
        },
        "id": "u8ngGfI-Hdmc",
        "outputId": "108c0598-fe84-4555-804b-476a51db5d89"
      },
      "execution_count": 34,
      "outputs": [
        {
          "output_type": "stream",
          "name": "stdout",
          "text": [
            "Kehinde Wiley is not on the list\n",
            "rice is in the list\n",
            "3 is in the list\n"
          ]
        }
      ]
    },
    {
      "cell_type": "code",
      "source": [
        "name = input(\"What is your name?\")\n",
        "print(name)"
      ],
      "metadata": {
        "colab": {
          "base_uri": "https://localhost:8080/"
        },
        "id": "OpJTix0FL5IW",
        "outputId": "6c3a6ced-b0de-4752-90ae-486680c69d45"
      },
      "execution_count": null,
      "outputs": [
        {
          "output_type": "stream",
          "name": "stdout",
          "text": [
            "What is your name?Amy \n",
            "Amy \n"
          ]
        }
      ]
    }
  ]
}